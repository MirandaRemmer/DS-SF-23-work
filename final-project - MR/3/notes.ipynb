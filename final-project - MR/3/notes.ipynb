{
 "cells": [
  {
   "cell_type": "code",
   "execution_count": null,
   "metadata": {
    "collapsed": true
   },
   "outputs": [],
   "source": [
    "df[(df.attr1_1.isnull()) & (df.sinc1_1.isnull()) & (df.intel1_1.isnull())]"
   ]
  },
  {
   "cell_type": "code",
   "execution_count": null,
   "metadata": {
    "collapsed": true
   },
   "outputs": [],
   "source": [
    "df[(df.attr1_2.isnull()) & (df.sinc1_2.isnull()) & (df.intel1_2.isnull())]"
   ]
  },
  {
   "cell_type": "code",
   "execution_count": null,
   "metadata": {
    "collapsed": true
   },
   "outputs": [],
   "source": []
  },
  {
   "cell_type": "code",
   "execution_count": null,
   "metadata": {
    "collapsed": true
   },
   "outputs": [],
   "source": [
    "##WRITE A FUNCTION USING .LOC \n",
    "\n",
    "for i in .... \n",
    "if ____ \n",
    "    reuturn .loc []  ==1"
   ]
  },
  {
   "cell_type": "code",
   "execution_count": null,
   "metadata": {
    "collapsed": true
   },
   "outputs": [],
   "source": []
  },
  {
   "cell_type": "code",
   "execution_count": null,
   "metadata": {
    "collapsed": true
   },
   "outputs": [],
   "source": []
  },
  {
   "cell_type": "code",
   "execution_count": null,
   "metadata": {
    "collapsed": true
   },
   "outputs": [],
   "source": [
    "y_max = df[ ['attr1_1', 'sinc1_1', 'intel1_1', 'fun1_1', 'amb1_1', 'shar1_1'] ].max(axis = 1)\n",
    "\n",
    "y_max.loc['impt_atr_other1'] = 'Attractive'\n",
    "y_max.loc[df.sinc1_1 > y_max, 'impt_atr_other1'] = 'Sincere'\n",
    "y_max.loc[df.inte1_1 > y_max, 'impt_atr_other1'] = 'Intelligent'\n",
    "y_max.loc[df.fun1_1 > y_max, 'impt_atr_other1'] = 'Fun'\n",
    "y_max.loc[df.amb1_1 > y_max, 'impt_atr_other1'] = 'Ambitious'\n",
    "y_max.loc[df.shar1_1 > y_max, 'impt_atr_other1'] = 'Shared_Interests'"
   ]
  },
  {
   "cell_type": "code",
   "execution_count": null,
   "metadata": {
    "collapsed": true
   },
   "outputs": [],
   "source": []
  },
  {
   "cell_type": "code",
   "execution_count": null,
   "metadata": {
    "collapsed": true
   },
   "outputs": [],
   "source": [
    "df[(df.gender ==1) & (df.attr1_1 >=7) & (df.attr_o >=7)]"
   ]
  },
  {
   "cell_type": "code",
   "execution_count": null,
   "metadata": {
    "collapsed": true
   },
   "outputs": [],
   "source": [
    "df[(df.match == 1) & (df.attr1_1 >=7) & (df.attr_o >=7)]"
   ]
  },
  {
   "cell_type": "code",
   "execution_count": null,
   "metadata": {
    "collapsed": true
   },
   "outputs": [],
   "source": []
  }
 ],
 "metadata": {
  "kernelspec": {
   "display_name": "Python 2",
   "language": "python",
   "name": "python2"
  },
  "language_info": {
   "codemirror_mode": {
    "name": "ipython",
    "version": 2
   },
   "file_extension": ".py",
   "mimetype": "text/x-python",
   "name": "python",
   "nbconvert_exporter": "python",
   "pygments_lexer": "ipython2",
   "version": "2.7.11"
  }
 },
 "nbformat": 4,
 "nbformat_minor": 0
}

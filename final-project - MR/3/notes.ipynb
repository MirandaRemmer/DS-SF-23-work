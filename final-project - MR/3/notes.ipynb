{
 "cells": [
  {
   "cell_type": "code",
   "execution_count": null,
   "metadata": {
    "collapsed": true
   },
   "outputs": [],
   "source": [
    "df[(df.attr1_1.isnull()) & (df.sinc1_1.isnull()) & (df.intel1_1.isnull())]"
   ]
  },
  {
   "cell_type": "code",
   "execution_count": null,
   "metadata": {
    "collapsed": true
   },
   "outputs": [],
   "source": [
    "df[(df.attr1_2.isnull()) & (df.sinc1_2.isnull()) & (df.intel1_2.isnull())]"
   ]
  },
  {
   "cell_type": "code",
   "execution_count": null,
   "metadata": {
    "collapsed": true
   },
   "outputs": [],
   "source": []
  },
  {
   "cell_type": "code",
   "execution_count": null,
   "metadata": {
    "collapsed": true
   },
   "outputs": [],
   "source": [
    "##WRITE A FUNCTION USING .LOC \n",
    "\n",
    "for i in .... \n",
    "if ____ \n",
    "    reuturn .loc []  ==1"
   ]
  },
  {
   "cell_type": "code",
   "execution_count": null,
   "metadata": {
    "collapsed": true
   },
   "outputs": [],
   "source": [
    "iid, gender, met_count, condtn, exphappy, expnum, match_es, goal\n",
    "            attr3_1, sinc3_1, fun3_1, intel3_1, amb3_1\n",
    "                  attr3_2, sinc3_2, fun3_2, intel3_2, amb3_2,\n",
    "                  attr5_1, sinc5_1, fun5_1, intel5_1, amb5_1, \n",
    "                  attr5_2, sinc5_2, fun5_2, intel5_2, amb5_2, \n",
    "                  attr3_s, sinc3_s, fun3_s, intel3_s, amb3_s,\n",
    "                  attr1_1, sinc1_1, fun1_1, intel1_1, amb1_1, shar1_1,\n",
    "                  attr1_s, sinc1_s, fun1_s, intel1_s, amb1_s, shar1_s,\n",
    "                  attr1_2, sinc1_2, fun1_2, intel1_2, amb1_2, shar1_2,\n",
    "                  attr7_2, sinc7_2, fun7_2, intel7_2, amb7_2, shar7_2, \n",
    "                  attr4_1, sinc4_1, fun4_1, intel4_1, amb4_1, shar4_1,\n",
    "                  attr4_2, sinc4_2, fun4_2, intel4_2, amb4_2, shar4_2,\n",
    "                  attr2_1, sinc2_1, fun2_1, intel2_1, amb2_1, shar2_1,\n",
    "                  attr2_2, sinc2_2, fun2_2, intel2_2, amb2_2, shar2_2,  #RENAME ALL BELOW\n",
    "                  match_sum, dec_sum, dec_o_sum,\n",
    "                  match_es_ave, expnum_ave, exphappy_ave, like_ave, like_o_ave,\n",
    "                  prob_ave, prob_o_ave, dec_ave, dec_o_ave, match_ave,\n",
    "                  attr_ave, sinc_ave, intel_ave, fun_ave, amb_ave, shar_ave,\n",
    "                  attr_o_ave, sinc_o_ave, intel_o_ave, fun_o_ave, amb_o_ave, shar_o_ave,\n",
    "                  pf_o_att_ave, pf_o_sin_ave, pf_o_int_ave, pf_o_fun_ave, pf_o_amb_ave, pf_o_sha_ave)"
   ]
  },
  {
   "cell_type": "code",
   "execution_count": null,
   "metadata": {
    "collapsed": true
   },
   "outputs": [],
   "source": []
  },
  {
   "cell_type": "code",
   "execution_count": null,
   "metadata": {
    "collapsed": true
   },
   "outputs": [],
   "source": [
    "y_max = df[ ['attr1_1', 'sinc1_1', 'intel1_1', 'fun1_1', 'amb1_1', 'shar1_1'] ].max(axis = 1)\n",
    "\n",
    "y_max.loc['impt_atr_other1'] = 'Attractive'\n",
    "y_max.loc[df.sinc1_1 > y_max, 'impt_atr_other1'] = 'Sincere'\n",
    "y_max.loc[df.inte1_1 > y_max, 'impt_atr_other1'] = 'Intelligent'\n",
    "y_max.loc[df.fun1_1 > y_max, 'impt_atr_other1'] = 'Fun'\n",
    "y_max.loc[df.amb1_1 > y_max, 'impt_atr_other1'] = 'Ambitious'\n",
    "y_max.loc[df.shar1_1 > y_max, 'impt_atr_other1'] = 'Shared_Interests'"
   ]
  },
  {
   "cell_type": "code",
   "execution_count": null,
   "metadata": {
    "collapsed": true
   },
   "outputs": [],
   "source": []
  },
  {
   "cell_type": "code",
   "execution_count": null,
   "metadata": {
    "collapsed": true
   },
   "outputs": [],
   "source": [
    "df[(df.gender ==1) & (df.attr1_1 >=7) & (df.attr_o >=7)]"
   ]
  },
  {
   "cell_type": "code",
   "execution_count": null,
   "metadata": {
    "collapsed": true
   },
   "outputs": [],
   "source": [
    "df[(df.match == 1) & (df.attr1_1 >=7) & (df.attr_o >=7)]"
   ]
  },
  {
   "cell_type": "code",
   "execution_count": null,
   "metadata": {
    "collapsed": true
   },
   "outputs": [],
   "source": []
  },
  {
   "cell_type": "code",
   "execution_count": null,
   "metadata": {
    "collapsed": true
   },
   "outputs": [],
   "source": []
  },
  {
   "cell_type": "markdown",
   "metadata": {},
   "source": [
    "### index sort before adding data"
   ]
  },
  {
   "cell_type": "code",
   "execution_count": null,
   "metadata": {
    "collapsed": true
   },
   "outputs": [],
   "source": [
    "data.set_index(['index_column'], inplace=True)\n",
    "\"if index is unsorted, assignment of a new column will fail\"        \n",
    "data.sort_index(inplace = True)\n",
    "data.loc['index_value1', 'column_y'] = np.random.randn(data.loc['index_value1', 'column_x'].shape[0])"
   ]
  },
  {
   "cell_type": "code",
   "execution_count": null,
   "metadata": {
    "collapsed": true
   },
   "outputs": [],
   "source": []
  },
  {
   "cell_type": "code",
   "execution_count": null,
   "metadata": {
    "collapsed": true
   },
   "outputs": [],
   "source": [
    "df_1 = df[df.SalePriceUnit == '$']\n",
    "\n",
    "df_1 = df_1.drop('SalePriceUnit', axis = 1)\n",
    "# Really a workaround as DataFrame.drop() with inplace = True issue warnings...\n",
    "\n",
    "df_6 = df[df.SalePriceUnit == '$M']\n",
    "\n",
    "df_6 = df_6.drop('SalePriceUnit', axis = 1)\n",
    "\n",
    "# Replacing the content of a column\n",
    "df_6.SalePrice = df_6.SalePrice * (10 ** 6)\n",
    "\n",
    "# Adding rows to a DataFrame\n",
    "# Concatenation of two DataFrame objects\n",
    "df = pd.concat([df_1, df_6])"
   ]
  },
  {
   "cell_type": "code",
   "execution_count": null,
   "metadata": {
    "collapsed": true
   },
   "outputs": [],
   "source": []
  },
  {
   "cell_type": "code",
   "execution_count": null,
   "metadata": {
    "collapsed": true
   },
   "outputs": [],
   "source": []
  },
  {
   "cell_type": "code",
   "execution_count": null,
   "metadata": {
    "collapsed": true
   },
   "outputs": [],
   "source": [
    "df_female_raw['match_es'] = match_es\n",
    "\n",
    "\n",
    "df['SalesBinary'] = df.SalesCategory.map({'Low' : 0, 'High' : 1})"
   ]
  },
  {
   "cell_type": "code",
   "execution_count": null,
   "metadata": {
    "collapsed": true
   },
   "outputs": [],
   "source": []
  },
  {
   "cell_type": "code",
   "execution_count": null,
   "metadata": {
    "collapsed": true
   },
   "outputs": [],
   "source": [
    "def getValueSet(feature, df)\n",
    "\n",
    "\n",
    "def getAve(feature, divs, df):\n",
    "\n",
    "    \n",
    "def getSum(feature, df):"
   ]
  },
  {
   "cell_type": "markdown",
   "metadata": {},
   "source": [
    "### index sort before adding data ??\n",
    "\n",
    "df = df.set_index('iid')"
   ]
  },
  {
   "cell_type": "markdown",
   "metadata": {},
   "source": [
    "### FEMALE"
   ]
  },
  {
   "cell_type": "code",
   "execution_count": 1,
   "metadata": {
    "collapsed": false
   },
   "outputs": [
    {
     "ename": "NameError",
     "evalue": "name 'pd' is not defined",
     "output_type": "error",
     "traceback": [
      "\u001b[0;31m---------------------------------------------------------------------------\u001b[0m",
      "\u001b[0;31mNameError\u001b[0m                                 Traceback (most recent call last)",
      "\u001b[0;32m<ipython-input-1-48d41c22912e>\u001b[0m in \u001b[0;36m<module>\u001b[0;34m()\u001b[0m\n\u001b[0;32m----> 1\u001b[0;31m \u001b[0mfemale_df\u001b[0m \u001b[0;34m=\u001b[0m \u001b[0mpd\u001b[0m\u001b[0;34m.\u001b[0m\u001b[0mDataFrame\u001b[0m\u001b[0;34m(\u001b[0m\u001b[0;34m{\u001b[0m\u001b[0;34m}\u001b[0m\u001b[0;34m)\u001b[0m\u001b[0;34m\u001b[0m\u001b[0m\n\u001b[0m\u001b[1;32m      2\u001b[0m \u001b[0;34m\u001b[0m\u001b[0m\n\u001b[1;32m      3\u001b[0m \u001b[0mfemale_df\u001b[0m\u001b[0;34m.\u001b[0m\u001b[0mappend\u001b[0m\u001b[0;34m(\u001b[0m\u001b[0mf_match_es_ave\u001b[0m\u001b[0;34m)\u001b[0m\u001b[0;34m\u001b[0m\u001b[0m\n\u001b[1;32m      4\u001b[0m \u001b[0mfemale_df\u001b[0m\u001b[0;34m.\u001b[0m\u001b[0mrename\u001b[0m\u001b[0;34m(\u001b[0m\u001b[0mcolumns\u001b[0m\u001b[0;34m=\u001b[0m\u001b[0;34m{\u001b[0m\u001b[0;34m'match_es'\u001b[0m\u001b[0;34m:\u001b[0m \u001b[0;34m'match_es_ave'\u001b[0m\u001b[0;34m}\u001b[0m\u001b[0;34m,\u001b[0m \u001b[0minplace\u001b[0m \u001b[0;34m=\u001b[0m \u001b[0mTrue\u001b[0m\u001b[0;34m)\u001b[0m\u001b[0;34m\u001b[0m\u001b[0m\n\u001b[1;32m      5\u001b[0m \u001b[0;34m\u001b[0m\u001b[0m\n",
      "\u001b[0;31mNameError\u001b[0m: name 'pd' is not defined"
     ]
    }
   ],
   "source": [
    "female_df = pd.DataFrame({})\n",
    "\n",
    "\n",
    "f_match_es_ave = getAve('match_es', 'met_count', df_female_raw)\n",
    "f_match_es_ave\n",
    "\n",
    "female_df.append(f_match_es_ave)\n",
    "female_df.rename(columns={'match_es': 'match_es_ave'}, inplace = True)\n",
    "\n",
    "\n",
    "def getSum(feature, df):\n",
    "    for iid in range(len(df)):\n",
    "        sum = df.groupby(['iid'])[feature].sum()\n",
    "        return sum    \n",
    "\n",
    "def getAve(feature, divs, df):\n",
    "    for iid in range(len(df)):\n",
    "        ave = df.groupby(['iid'])[[feature, divs]].mean()\n",
    "        return ave\n",
    "\n",
    "\n",
    "def getValueSet(feature, df):\n",
    "    for iid in range(len(df)):\n",
    "        denom = df.groupby(['iid'])[feature].value_counts()\n",
    "        sum = df.groupby(['iid'])[feature].sum()\n",
    "        divis = sum/denom\n",
    "        return divis"
   ]
  },
  {
   "cell_type": "code",
   "execution_count": null,
   "metadata": {
    "collapsed": true
   },
   "outputs": [],
   "source": [
    "attr3_1 = getValueSet('attr3_1', DF)\n",
    "        sinc3_1 = getValueSet('sinc3_1', DF)\n",
    "        fun3_1 = getValueSet('fun3_1', DF)\n",
    "        intel3_1 = getValueSet('intel3_1', DF)\n",
    "        amb3_1= getValueSet('amb3_1', DF)\n",
    "        \n",
    "        attr3_2 = getValueSet('attr3_2', DF)\n",
    "        sinc3_2 = getValueSet('sinc3_2', DF)\n",
    "        fun3_2 = getValueSet('fun3_2', DF)\n",
    "        intel3_2= getValueSet('intel3_2', DF)\n",
    "        amb3_2 = getValueSet('amb3_2', DF)\n",
    "        \n",
    "        attr5_1 = getValueSet('attr5_1', DF)\n",
    "        sinc5_1 = getValueSet('sinc5_1', DF)\n",
    "        fun5_1 = getValueSet('fun5_1', DF)\n",
    "        intel5_1 = getValueSet('intel5_1', DF)\n",
    "        amb5_1 = getValueSet('amb5_1', DF)\n",
    "        \n",
    "        attr5_2 = getValueSet('attr5_2', DF)\n",
    "        sinc5_2 = getValueSet('sinc5_2', DF)\n",
    "        fun5_2 = getValueSet('fun5_2', DF)\n",
    "        intel5_2 = getValueSet('intel5_2', DF)\n",
    "        amb5_2 = getValueSet('amb5_2', DF)\n",
    "        \n",
    "        attr3_s = getValueSet('attr3_s', DF)\n",
    "        sinc3_s = getValueSet('sinc3_s', DF)\n",
    "        fun3_s = getValueSet('fun3_s', DF)\n",
    "        intel3_s = getValueSet('intel3_s', DF)\n",
    "        amb3_s = getValueSet('amb3_s', DF)\n",
    "        \n",
    "        attr1_1 = getValueSet('attr1_1', DF)\n",
    "        sinc1_1 = getValueSet('sinc1_1', DF)\n",
    "        fun1_1 = getValueSet('fun1_1', DF)\n",
    "        intel1_1 = getValueSet('intel1_1', DF)\n",
    "        amb1_1 = getValueSet('amb1_1', DF)\n",
    "        shar1_1 = getValueSet('shar1_1', DF)\n",
    "        \n",
    "        attr1_s = getValueSet('attr1_s', DF)\n",
    "        sinc1_s = getValueSet('sinc1_s', DF)\n",
    "        fun1_s = getValueSet('fun1_s', DF)\n",
    "        intel1_s = getValueSet('intel1_s', DF)\n",
    "        amb1_s = getValueSet('amb1_s', DF)\n",
    "        shar1_s = getValueSet('shar1_s', DF)\n",
    "        \n",
    "        attr1_2 = getValueSet('attr1_2', DF)\n",
    "        sinc1_2 = getValueSet('sinc1_2', DF)\n",
    "        fun1_2 = getValueSet('fun1_2', DF)\n",
    "        intel1_2 = getValueSet('intel1_2', DF)\n",
    "        amb1_2 = getValueSet('amb1_2', DF)\n",
    "        shar1_2 = getValueSet('shar1_2', DF)\n",
    "        \n",
    "        attr7_2 = getValueSet('attr7_2', DF)\n",
    "        sinc7_2 = getValueSet('sinc7_2', DF)\n",
    "        fun7_2 = getValueSet('fun7_2', DF)\n",
    "        intel7_2 = getValueSet('intel7_2', DF)\n",
    "        amb7_2 = getValueSet('amb7_2', DF)\n",
    "        shar7_2 = getValueSet('shar7_2', DF)\n",
    "        \n",
    "        attr4_1 = getValueSet('attr4_1', DF)\n",
    "        sinc4_1 = getValueSet('sinc4_1', DF)\n",
    "        fun4_1 = getValueSet('fun4_1', DF)\n",
    "        intel4_1 = getValueSet('intel4_1', DF)\n",
    "        amb4_1 = getValueSet('amb4_1', DF)\n",
    "        shar4_1 = getValueSet('shar4_1', DF)\n",
    "        \n",
    "        attr4_2 = getValueSet('attr4_2', DF)\n",
    "        sinc4_2 = getValueSet('sinc4_2', DF)\n",
    "        fun4_2 = getValueSet('fun4_2', DF)\n",
    "        intel4_2 = getValueSet('intel4_2', DF)\n",
    "        amb4_2 = getValueSet('amb4_2', DF)\n",
    "        shar4_2 = getValueSet('shar4_2', DF)\n",
    "        \n",
    "        attr2_1 = getValueSet('attr2_1', DF)\n",
    "        sinc2_1 = getValueSet('sinc2_1', DF)\n",
    "        fun2_1 = getValueSet('fun2_1', DF)\n",
    "        intel2_1= getValueSet('intel2_1', DF)\n",
    "        amb2_1 = getValueSet('amb2_1', DF)\n",
    "        shar2_1 = getValueSet('shar2_1', DF)\n",
    "        \n",
    "        attr2_2 = getValueSet('attr2_2', DF)\n",
    "        sinc2_2 = getValueSet('sinc2_2', DF)\n",
    "        fun2_2 = getValueSet('fun2_2', DF)\n",
    "        intel2_2 = getValueSet('intel2_2', DF)\n",
    "        amb2_2 = getValueSet('amb2_2', DF)\n",
    "        shar2_2 = getValueSet('shar2_2', DF)\n",
    "        \n",
    "        #RENAME ALL BELOW\n",
    "        match_sum = getSum('match', DF)\n",
    "        dec_sum = getSum('dec', DF) #sum of subject's decisions (num of 'yes'')\n",
    "        dec_o_sum = getSum('dec_o', DF) #sum of parnter's decisions (num of 'yes'')\n",
    "        \n",
    "        \n",
    "        match_es_ave = getAve('match_es', 'met_count', DF)  #MATCH_ES_AVE  = % of people they think they'll match with\n",
    "        expnum_ave =getAve('expnum', 20, DF)  #EXPNUM_AVE (/20ppl)\n",
    "        exphappy_ave = getAve('exphappy', 10, DF)  #EXPHAPPY_AVE (/10PTS) ##????\n",
    "        like_ave = getAve('like', 'met_count', DF)  #LIKE_AVE ##?\n",
    "        like_o_ave = getAve('like_o', 'met_count', DF)  #LIKE_O_AVE ##?\n",
    "        prob_ave = getAve('prob', 'met_count', DF)  #PROB_AVE ##?\n",
    "        prob_o_ave = getAve('prob_o', 'met_count', DF)  #PROB_O_AVE ##?\n",
    "        \n",
    "        dec_ave = getAve('dec', 'met_count', DF)  #DEC_AVE (average decision of subject to want to date)\n",
    "        dec_o_ave = getAve('dec_o', 'met_count', DF)  #DEC_AVE (average dec of partners to want to date subject)\n",
    "        match_ave = getAve('match', 'met_count', DF) #MATCH_AVE (average match count/#of people met with)\n",
    "        \n",
    "        attr_ave = getAve('attr', 'met_count', DF) \n",
    "        sinc_ave = getAve('sinc', 'met_count', DF)  \n",
    "        intel_ave = getAve('intel', 'met_count', DF) \n",
    "        fun_ave = getAve('fun', 'met_count', DF) \n",
    "        amb_ave = getAve('amb', 'met_count', DF) \n",
    "        shar_ave = getAve('shar', 'met_count', DF) \n",
    "        \n",
    "        attr_o_ave = getAve('attr_o', 'met_count', DF) \n",
    "        sinc_o_ave = getAve('sinc_o', 'met_count', DF)  \n",
    "        intel_o_ave = getAve('intel_o', 'met_count', DF) \n",
    "        fun_o_ave = getAve('fun_o', 'met_count', DF) \n",
    "        amb_o_ave = getAve('amb_o', 'met_count', DF) \n",
    "        shar_o_ave = getAve('shar_o', 'met_count', DF) \n",
    "        \n",
    "        pf_o_att_ave = getAve('pf_o_att', 'met_count', DF) \n",
    "        pf_o_sin_ave = getAve('pf_o_sin', 'met_count', DF)  \n",
    "        pf_o_int_ave = getAve('pf_o_int', 'met_count', DF) \n",
    "        pf_o_fun_ave = getAve('pf_o_fun', 'met_count', DF) \n",
    "        pf_o_amb_ave = getAve('pf_o_amb', 'met_count', DF) \n",
    "        pf_o_sha_ave = getAve('pf_o_sha', 'met_count', DF) \n",
    "        \n",
    "        \n",
    "        \n",
    "          DF = pd.concat(iid, gender, met_count, condtn, exphappy, expnum, match_es, goal)\n",
    "        DF = pd.concat(attr3_1, sinc3_1, fun3_1, intel3_1, amb3_1)\n",
    "        DF = pd.concat(attr3_2, sinc3_2, fun3_2, intel3_2, amb3_2)\n",
    "        DF = pd.concat(attr5_1, sinc5_1, fun5_1, intel5_1, amb5_1)\n",
    "        DF = pd.concat(attr5_2, sinc5_2, fun5_2, intel5_2, amb5_2)\n",
    "        DF = pd.concat(attr3_s, sinc3_s, fun3_s, intel3_s, amb3_s)\n",
    "        DF = pd.concat(attr1_1, sinc1_1, fun1_1, intel1_1, amb1_1, shar1_1)\n",
    "        DF = pd.concat(attr1_s, sinc1_s, fun1_s, intel1_s, amb1_s, shar1_s)\n",
    "        DF = pd.concat(attr1_2, sinc1_2, fun1_2, intel1_2, amb1_2, shar1_2)\n",
    "        DF = pd.concat(attr7_2, sinc7_2, fun7_2, intel7_2, amb7_2, shar7_2)\n",
    "        DF = pd.concat(attr4_1, sinc4_1, fun4_1, intel4_1, amb4_1, shar4_1)\n",
    "        DF = pd.concat(attr4_2, sinc4_2, fun4_2, intel4_2, amb4_2, shar4_2)\n",
    "        DF = pd.concat(attr2_1, sinc2_1, fun2_1, intel2_1, amb2_1, shar2_1)\n",
    "        DF = pd.concat(attr2_2, sinc2_2, fun2_2, intel2_2, amb2_2, shar2_2)    \n",
    "        DF = pd.concat(match_sum, dec_sum, dec_o_sum)\n",
    "        DF = pd.concat(match_es_ave, expnum_ave, exphappy_ave, like_ave, like_o_ave)\n",
    "        DF = pd.concat(prob_ave, prob_o_ave, dec_ave, dec_o_ave, match_ave)\n",
    "        DF = pd.concat(attr_ave, sinc_ave, intel_ave, fun_ave, amb_ave, shar_ave)\n",
    "        DF = pd.concat(attr_o_ave, sinc_o_ave, intel_o_ave, fun_o_ave, amb_o_ave, shar_o_ave)\n",
    "        DF = pd.concat(pf_o_att_ave, pf_o_sin_ave, pf_o_int_ave, pf_o_fun_ave, pf_o_amb_ave, pf_o_sha_ave)\n",
    "       "
   ]
  },
  {
   "cell_type": "code",
   "execution_count": null,
   "metadata": {
    "collapsed": true
   },
   "outputs": [],
   "source": [
    "def renameFeature(feature, new_feature_name, df):\n",
    "    df.rename(columns={feature: new_feature_name}, inplace = True)\n",
    "\n"
   ]
  },
  {
   "cell_type": "markdown",
   "metadata": {},
   "source": [
    "# MALE"
   ]
  },
  {
   "cell_type": "code",
   "execution_count": null,
   "metadata": {
    "collapsed": true
   },
   "outputs": [],
   "source": [
    "match_es = getValueSet('match_es', df_male_raw)\n",
    "\n",
    "match_es"
   ]
  },
  {
   "cell_type": "code",
   "execution_count": null,
   "metadata": {
    "collapsed": true
   },
   "outputs": [],
   "source": [
    "attr_o\n",
    "\n",
    "m_attr_o_ave = getAve('attr_o', 'met_count', df_male_raw)\n",
    "\n",
    "type(m_attr_o_ave)"
   ]
  }
 ],
 "metadata": {
  "kernelspec": {
   "display_name": "Python 2",
   "language": "python",
   "name": "python2"
  },
  "language_info": {
   "codemirror_mode": {
    "name": "ipython",
    "version": 2
   },
   "file_extension": ".py",
   "mimetype": "text/x-python",
   "name": "python",
   "nbconvert_exporter": "python",
   "pygments_lexer": "ipython2",
   "version": "2.7.11"
  }
 },
 "nbformat": 4,
 "nbformat_minor": 0
}

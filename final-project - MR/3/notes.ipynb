{
 "cells": [
  {
   "cell_type": "code",
   "execution_count": null,
   "metadata": {
    "collapsed": true
   },
   "outputs": [],
   "source": [
    "df[(df.attr1_1.isnull()) & (df.sinc1_1.isnull()) & (df.intel1_1.isnull())]"
   ]
  },
  {
   "cell_type": "code",
   "execution_count": null,
   "metadata": {
    "collapsed": true
   },
   "outputs": [],
   "source": [
    "df[(df.attr1_2.isnull()) & (df.sinc1_2.isnull()) & (df.intel1_2.isnull())]"
   ]
  },
  {
   "cell_type": "code",
   "execution_count": null,
   "metadata": {
    "collapsed": true
   },
   "outputs": [],
   "source": []
  },
  {
   "cell_type": "code",
   "execution_count": null,
   "metadata": {
    "collapsed": true
   },
   "outputs": [],
   "source": [
    "##WRITE A FUNCTION USING .LOC \n",
    "\n",
    "for i in .... \n",
    "if ____ \n",
    "    reuturn .loc []  ==1"
   ]
  },
  {
   "cell_type": "code",
   "execution_count": null,
   "metadata": {
    "collapsed": true
   },
   "outputs": [],
   "source": []
  },
  {
   "cell_type": "code",
   "execution_count": null,
   "metadata": {
    "collapsed": true
   },
   "outputs": [],
   "source": [
    "def getAve(feature, divis, df):\n",
    "    list = []\n",
    "    for iid in df.iid.unique():\n",
    "        iidsubet = df[df.iid == iid]\n",
    "        ave = iidsubet[(feature, divis)].mean()\n",
    "        list.append(ave)\n",
    "    return pd.Series(list)\n",
    "\n"
   ]
  },
  {
   "cell_type": "code",
   "execution_count": null,
   "metadata": {
    "collapsed": true
   },
   "outputs": [],
   "source": []
  },
  {
   "cell_type": "code",
   "execution_count": null,
   "metadata": {
    "collapsed": true
   },
   "outputs": [],
   "source": [
    "df[(df.gender ==1) & (df.attr1_1 >=7) & (df.attr_o >=7)]"
   ]
  },
  {
   "cell_type": "code",
   "execution_count": null,
   "metadata": {
    "collapsed": true
   },
   "outputs": [],
   "source": [
    "df[(df.match == 1) & (df.attr1_1 >=7) & (df.attr_o >=7)]"
   ]
  },
  {
   "cell_type": "code",
   "execution_count": null,
   "metadata": {
    "collapsed": true
   },
   "outputs": [],
   "source": []
  },
  {
   "cell_type": "code",
   "execution_count": null,
   "metadata": {
    "collapsed": true
   },
   "outputs": [],
   "source": [
    "y_max = df[ ['attr1_1', 'sinc1_1', 'intel1_1', 'fun1_1', 'amb1_1', 'shar1_1'] ].max(axis = 1)\n",
    "\n",
    "y_max.loc['impt_atr_other1'] = 'Attractive'\n",
    "y_max.loc[df.sinc1_1 > y_max, 'impt_atr_other1'] = 'Sincere'\n",
    "y_max.loc[df.inte1_1 > y_max, 'impt_atr_other1'] = 'Intelligent'\n",
    "y_max.loc[df.fun1_1 > y_max, 'impt_atr_other1'] = 'Fun'\n",
    "y_max.loc[df.amb1_1 > y_max, 'impt_atr_other1'] = 'Ambitious'\n",
    "y_max.loc[df.shar1_1 > y_max, 'impt_atr_other1'] = 'Shared_Interests'"
   ]
  },
  {
   "cell_type": "code",
   "execution_count": null,
   "metadata": {
    "collapsed": true
   },
   "outputs": [],
   "source": []
  },
  {
   "cell_type": "markdown",
   "metadata": {},
   "source": [
    "### index sort before adding data"
   ]
  },
  {
   "cell_type": "code",
   "execution_count": null,
   "metadata": {
    "collapsed": true
   },
   "outputs": [],
   "source": [
    "data.set_index(['index_column'], inplace=True)\n",
    "\"if index is unsorted, assignment of a new column will fail\"        \n",
    "data.sort_index(inplace = True)\n",
    "data.loc['index_value1', 'column_y'] = np.random.randn(data.loc['index_value1', 'column_x'].shape[0])"
   ]
  },
  {
   "cell_type": "code",
   "execution_count": null,
   "metadata": {
    "collapsed": true
   },
   "outputs": [],
   "source": []
  },
  {
   "cell_type": "code",
   "execution_count": null,
   "metadata": {
    "collapsed": true
   },
   "outputs": [],
   "source": [
    "df_1 = df[df.SalePriceUnit == '$']\n",
    "\n",
    "df_1 = df_1.drop('SalePriceUnit', axis = 1)\n",
    "# Really a workaround as DataFrame.drop() with inplace = True issue warnings...\n",
    "\n",
    "df_6 = df[df.SalePriceUnit == '$M']\n",
    "\n",
    "df_6 = df_6.drop('SalePriceUnit', axis = 1)\n",
    "\n",
    "# Replacing the content of a column\n",
    "df_6.SalePrice = df_6.SalePrice * (10 ** 6)\n",
    "\n",
    "# Adding rows to a DataFrame\n",
    "# Concatenation of two DataFrame objects\n",
    "df = pd.concat([df_1, df_6])"
   ]
  },
  {
   "cell_type": "code",
   "execution_count": null,
   "metadata": {
    "collapsed": true
   },
   "outputs": [],
   "source": []
  },
  {
   "cell_type": "code",
   "execution_count": null,
   "metadata": {
    "collapsed": true
   },
   "outputs": [],
   "source": []
  },
  {
   "cell_type": "code",
   "execution_count": null,
   "metadata": {
    "collapsed": true
   },
   "outputs": [],
   "source": [
    "df_female_raw['match_es'] = match_es\n",
    "\n",
    "\n",
    "df['SalesBinary'] = df.SalesCategory.map({'Low' : 0, 'High' : 1})"
   ]
  },
  {
   "cell_type": "code",
   "execution_count": null,
   "metadata": {
    "collapsed": true
   },
   "outputs": [],
   "source": []
  },
  {
   "cell_type": "code",
   "execution_count": null,
   "metadata": {
    "collapsed": true
   },
   "outputs": [],
   "source": []
  },
  {
   "cell_type": "markdown",
   "metadata": {},
   "source": [
    "### index sort before adding data ??\n",
    "\n",
    "df = df.set_index('iid')"
   ]
  },
  {
   "cell_type": "markdown",
   "metadata": {},
   "source": [
    "# FUNCTIONS - working"
   ]
  },
  {
   "cell_type": "code",
   "execution_count": null,
   "metadata": {
    "collapsed": true
   },
   "outputs": [],
   "source": [
    "def getSum(feature, df):\n",
    "    list = []\n",
    "    for iid in df.iid.unique():\n",
    "        iidsubet = df[df.iid == iid]\n",
    "        sum = iidsubet[feature].sum()\n",
    "        list.append(sum)\n",
    "    return pd.Series(list)\n"
   ]
  },
  {
   "cell_type": "code",
   "execution_count": null,
   "metadata": {
    "collapsed": true
   },
   "outputs": [],
   "source": [
    "def getAveScore(feature, df):\n",
    "    list = []\n",
    "    for iid in df.iid.unique():\n",
    "        iidsubset = df[df.iid == iid]\n",
    "        denom = iidsubset['met_count'].unique()[0]\n",
    "        sum = iidsubset[feature].sum()\n",
    "        divis = sum/denom\n",
    "        list.append(divis)\n",
    "    return pd.Series(list)"
   ]
  },
  {
   "cell_type": "code",
   "execution_count": null,
   "metadata": {
    "collapsed": true
   },
   "outputs": [],
   "source": [
    "def getAve(feature, df):\n",
    "    list = []\n",
    "    for iid in df.iid.unique():\n",
    "        iidsubset = df[df.iid == iid]\n",
    "        denom = iidsubset['met_count'].unique()[0]\n",
    "        sum = iidsubset[feature].unique()[0]\n",
    "        divis = sum/denom\n",
    "        list.append(divis)\n",
    "    return pd.Series(list)"
   ]
  },
  {
   "cell_type": "code",
   "execution_count": null,
   "metadata": {
    "collapsed": true
   },
   "outputs": [],
   "source": [
    "def getValueSet(feature, df):\n",
    "    list = []\n",
    "    for iid in df.iid.unique():\n",
    "        iidsubset = df[df.iid == iid]\n",
    "        denom = len(iidsubset)\n",
    "        sum = iidsubset[feature].sum()\n",
    "        divis = sum/denom\n",
    "        list.append(divis)\n",
    "    return pd.Series(list)\n",
    "\n",
    "#test: getValueSet(df_female_raw, 'met_count')"
   ]
  },
  {
   "cell_type": "code",
   "execution_count": null,
   "metadata": {
    "collapsed": true
   },
   "outputs": [],
   "source": [
    "def expAve(feature, denom, df):\n",
    "    list = []\n",
    "    for iid in df.iid.unique():\n",
    "        iidsubset = df[df.iid == iid]\n",
    "        f = iidsubset[feature].unique()[0]\n",
    "        ave = f / denom\n",
    "        list.append(ave)\n",
    "    return pd.Series(list)\n",
    "\n",
    "\n",
    "#EXPNUM_AVE (/20ppl)\n",
    "#df_female_condensed['expnum_ave'] = expAve('expnum', 20, df_female_condensed)\n",
    "#EXPHAPPY_AVE\n",
    "#df['exphappy_ave'] = getAve('exphappy', 10, DF)  #EXPHAPPY_AVE (/10PTS) ##????"
   ]
  },
  {
   "cell_type": "markdown",
   "metadata": {},
   "source": [
    "### FEMALE"
   ]
  },
  {
   "cell_type": "code",
   "execution_count": 1,
   "metadata": {
    "collapsed": false
   },
   "outputs": [
    {
     "ename": "NameError",
     "evalue": "name 'pd' is not defined",
     "output_type": "error",
     "traceback": [
      "\u001b[0;31m---------------------------------------------------------------------------\u001b[0m",
      "\u001b[0;31mNameError\u001b[0m                                 Traceback (most recent call last)",
      "\u001b[0;32m<ipython-input-1-48d41c22912e>\u001b[0m in \u001b[0;36m<module>\u001b[0;34m()\u001b[0m\n\u001b[0;32m----> 1\u001b[0;31m \u001b[0mfemale_df\u001b[0m \u001b[0;34m=\u001b[0m \u001b[0mpd\u001b[0m\u001b[0;34m.\u001b[0m\u001b[0mDataFrame\u001b[0m\u001b[0;34m(\u001b[0m\u001b[0;34m{\u001b[0m\u001b[0;34m}\u001b[0m\u001b[0;34m)\u001b[0m\u001b[0;34m\u001b[0m\u001b[0m\n\u001b[0m\u001b[1;32m      2\u001b[0m \u001b[0;34m\u001b[0m\u001b[0m\n\u001b[1;32m      3\u001b[0m \u001b[0mfemale_df\u001b[0m\u001b[0;34m.\u001b[0m\u001b[0mappend\u001b[0m\u001b[0;34m(\u001b[0m\u001b[0mf_match_es_ave\u001b[0m\u001b[0;34m)\u001b[0m\u001b[0;34m\u001b[0m\u001b[0m\n\u001b[1;32m      4\u001b[0m \u001b[0mfemale_df\u001b[0m\u001b[0;34m.\u001b[0m\u001b[0mrename\u001b[0m\u001b[0;34m(\u001b[0m\u001b[0mcolumns\u001b[0m\u001b[0;34m=\u001b[0m\u001b[0;34m{\u001b[0m\u001b[0;34m'match_es'\u001b[0m\u001b[0;34m:\u001b[0m \u001b[0;34m'match_es_ave'\u001b[0m\u001b[0;34m}\u001b[0m\u001b[0;34m,\u001b[0m \u001b[0minplace\u001b[0m \u001b[0;34m=\u001b[0m \u001b[0mTrue\u001b[0m\u001b[0;34m)\u001b[0m\u001b[0;34m\u001b[0m\u001b[0m\n\u001b[1;32m      5\u001b[0m \u001b[0;34m\u001b[0m\u001b[0m\n",
      "\u001b[0;31mNameError\u001b[0m: name 'pd' is not defined"
     ]
    }
   ],
   "source": [
    "female_df = pd.DataFrame({})\n",
    "\n",
    "\n",
    "f_match_es_ave = getAve('match_es', 'met_count', df_female_raw)\n",
    "f_match_es_ave\n",
    "\n",
    "female_df.append(f_match_es_ave)\n",
    "female_df.rename(columns={'match_es': 'match_es_ave'}, inplace = True)\n",
    "\n",
    "\n",
    "def getSum(feature, df):\n",
    "    for iid in range(len(df)):\n",
    "        sum = df.groupby(['iid'])[feature].sum()\n",
    "        return sum    \n",
    "def getSum(feature, feature_new, df):\n",
    "    df[feature_new] = df[feature].sum()\n",
    "    #df.drop(feature, axis = 1, inplace = True)\n",
    "    \n",
    "    \n",
    "def getAve(feature, divs, df):\n",
    "    for iid in range(len(df)):\n",
    "        ave = df.groupby(['iid'])[[feature, divs]].mean()\n",
    "        return ave\n",
    "\n",
    "\n",
    "def getValueSet(feature, df):\n",
    "    for iid in range(len(df)):\n",
    "        denom = df.groupby(['iid'])[feature].value_counts()\n",
    "        sum = df.groupby(['iid'])[feature].sum()\n",
    "        divis = sum/denom\n",
    "        return divis"
   ]
  },
  {
   "cell_type": "code",
   "execution_count": null,
   "metadata": {
    "collapsed": true
   },
   "outputs": [],
   "source": []
  },
  {
   "cell_type": "code",
   "execution_count": null,
   "metadata": {
    "collapsed": true
   },
   "outputs": [],
   "source": [
    "def renameFeature(feature, new_feature_name, df):\n",
    "    df.rename(columns={feature: new_feature_name}, inplace = True)\n",
    "\n"
   ]
  },
  {
   "cell_type": "code",
   "execution_count": null,
   "metadata": {
    "collapsed": true
   },
   "outputs": [],
   "source": [
    "test_female = pd.DataFrame()\n",
    "test_female['iid'] = df_female_raw.iid.unique()\n",
    "test_female"
   ]
  },
  {
   "cell_type": "markdown",
   "metadata": {},
   "source": [
    "# MALE"
   ]
  },
  {
   "cell_type": "code",
   "execution_count": null,
   "metadata": {
    "collapsed": true
   },
   "outputs": [],
   "source": [
    "match_es = getValueSet('match_es', df_male_raw)\n",
    "\n",
    "match_es"
   ]
  },
  {
   "cell_type": "code",
   "execution_count": null,
   "metadata": {
    "collapsed": true
   },
   "outputs": [],
   "source": [
    "attr_o\n",
    "\n",
    "m_attr_o_ave = getAve('attr_o', 'met_count', df_male_raw)\n",
    "\n",
    "type(m_attr_o_ave)"
   ]
  },
  {
   "cell_type": "code",
   "execution_count": null,
   "metadata": {
    "collapsed": true
   },
   "outputs": [],
   "source": []
  },
  {
   "cell_type": "code",
   "execution_count": null,
   "metadata": {
    "collapsed": true
   },
   "outputs": [],
   "source": [
    "test = pd.DataFrame()\n",
    "test['iid'] = df_female_raw.iid.unique()\n",
    "test['met_count'] = getValueSet(df_female_raw, 'met_count')\n",
    "test"
   ]
  },
  {
   "cell_type": "code",
   "execution_count": null,
   "metadata": {
    "collapsed": true
   },
   "outputs": [],
   "source": [
    "iid1 = df_female_raw[subset_df.iid == 1]\n",
    "\n",
    "iid1.drop('wave', axis = 1, inplace = True)\n",
    "iid1.drop('pid', axis = 1, inplace = True)\n",
    "iid1.drop('samerace', axis = 1, inplace = True)\n",
    "iid1.drop('imprace', axis = 1, inplace = True)\n",
    "iid1.drop('imprelig', axis = 1, inplace = True)\n",
    "iid1.drop('age', axis = 1, inplace = True)\n",
    "iid1.drop('age_o', axis = 1, inplace = True)"
   ]
  },
  {
   "cell_type": "code",
   "execution_count": null,
   "metadata": {
    "collapsed": true
   },
   "outputs": [],
   "source": [
    "iid11 = df_male_test.loc[11]"
   ]
  },
  {
   "cell_type": "code",
   "execution_count": null,
   "metadata": {
    "collapsed": true
   },
   "outputs": [],
   "source": [
    "#iid1['match_sum'] = iid1.match.sum()\n",
    "#iid1.drop('match', axis = 1, inplace = True)\n",
    "\n",
    "#iid1['dec_sum'] = iid1['dec'].sum()\n",
    "#iid1 = iid1.drop('dec', axis = 1)"
   ]
  },
  {
   "cell_type": "code",
   "execution_count": null,
   "metadata": {
    "collapsed": true
   },
   "outputs": [],
   "source": []
  },
  {
   "cell_type": "code",
   "execution_count": null,
   "metadata": {
    "collapsed": true
   },
   "outputs": [],
   "source": [
    "iid1 = df_female_raw[df_female_raw.iid ==1]\n",
    "iid1"
   ]
  }
 ],
 "metadata": {
  "kernelspec": {
   "display_name": "Python 2",
   "language": "python",
   "name": "python2"
  },
  "language_info": {
   "codemirror_mode": {
    "name": "ipython",
    "version": 2
   },
   "file_extension": ".py",
   "mimetype": "text/x-python",
   "name": "python",
   "nbconvert_exporter": "python",
   "pygments_lexer": "ipython2",
   "version": "2.7.11"
  }
 },
 "nbformat": 4,
 "nbformat_minor": 0
}

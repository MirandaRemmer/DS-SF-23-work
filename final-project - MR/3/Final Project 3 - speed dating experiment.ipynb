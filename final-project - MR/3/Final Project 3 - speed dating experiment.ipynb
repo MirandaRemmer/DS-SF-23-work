{
 "cells": [
  {
   "cell_type": "markdown",
   "metadata": {},
   "source": [
    "### SPEED DATING EXPERIMENT (regression)"
   ]
  },
  {
   "cell_type": "code",
   "execution_count": 6,
   "metadata": {
    "collapsed": true
   },
   "outputs": [],
   "source": [
    "import os\n",
    "import numpy as np\n",
    "import pandas as pd\n",
    "import csv\n",
    "import matplotlib.pyplot as plt\n",
    "import seaborn as sns\n",
    "import statsmodels.api as sm\n",
    "import statsmodels.formula.api as smf\n",
    "from sklearn import linear_model, metrics, cross_validation, feature_selection\n",
    "\n",
    "pd.set_option('display.max_rows', 10)\n",
    "pd.set_option('display.notebook_repr_html', True)\n",
    "pd.set_option('display.max_columns', 10)\n",
    "\n",
    "%matplotlib inline\n",
    "plt.style.use('ggplot')\n",
    "\n",
    "\n",
    "\n",
    "pd.set_option('display.max_rows', 10)\n",
    "pd.set_option('display.notebook_repr_html', True)\n",
    "pd.set_option('display.max_columns', 10)"
   ]
  },
  {
   "cell_type": "code",
   "execution_count": 7,
   "metadata": {
    "collapsed": true
   },
   "outputs": [],
   "source": [
    "def linear_modeling_with_sklearn(X, y):\n",
    "    model = linear_model.LinearRegression(fit_intercept = True)\n",
    "    model.fit(X, y)\n",
    "\n",
    "    print 'F-statistic (performed for each regressor independently)'\n",
    "    print '- F-value', feature_selection.f_regression(X, y)[0]\n",
    "    print '- p-value', feature_selection.f_regression(X, y)[1]\n",
    "    print 'R^2 =', model.score(X, y)\n",
    "    print 'Coefficients'\n",
    "    print '- beta_0 (intercept) =', model.intercept_\n",
    "    print '- beta_n (n > 0)     =', model.coef_"
   ]
  },
  {
   "cell_type": "code",
   "execution_count": 8,
   "metadata": {
    "collapsed": true
   },
   "outputs": [],
   "source": [
    "df = pd.read_csv(os.path.join('..', 'CODE', 'speed-dating-experiment', 'Speed Dating Data.csv'))"
   ]
  },
  {
   "cell_type": "code",
   "execution_count": 9,
   "metadata": {
    "collapsed": false
   },
   "outputs": [
    {
     "data": {
      "text/html": [
       "<div>\n",
       "<table border=\"1\" class=\"dataframe\">\n",
       "  <thead>\n",
       "    <tr style=\"text-align: right;\">\n",
       "      <th></th>\n",
       "      <th>iid</th>\n",
       "      <th>id</th>\n",
       "      <th>gender</th>\n",
       "      <th>idg</th>\n",
       "      <th>condtn</th>\n",
       "      <th>...</th>\n",
       "      <th>attr5_3</th>\n",
       "      <th>sinc5_3</th>\n",
       "      <th>intel5_3</th>\n",
       "      <th>fun5_3</th>\n",
       "      <th>amb5_3</th>\n",
       "    </tr>\n",
       "  </thead>\n",
       "  <tbody>\n",
       "    <tr>\n",
       "      <th>0</th>\n",
       "      <td>1</td>\n",
       "      <td>1.0</td>\n",
       "      <td>0</td>\n",
       "      <td>1</td>\n",
       "      <td>1</td>\n",
       "      <td>...</td>\n",
       "      <td>NaN</td>\n",
       "      <td>NaN</td>\n",
       "      <td>NaN</td>\n",
       "      <td>NaN</td>\n",
       "      <td>NaN</td>\n",
       "    </tr>\n",
       "    <tr>\n",
       "      <th>1</th>\n",
       "      <td>1</td>\n",
       "      <td>1.0</td>\n",
       "      <td>0</td>\n",
       "      <td>1</td>\n",
       "      <td>1</td>\n",
       "      <td>...</td>\n",
       "      <td>NaN</td>\n",
       "      <td>NaN</td>\n",
       "      <td>NaN</td>\n",
       "      <td>NaN</td>\n",
       "      <td>NaN</td>\n",
       "    </tr>\n",
       "    <tr>\n",
       "      <th>2</th>\n",
       "      <td>1</td>\n",
       "      <td>1.0</td>\n",
       "      <td>0</td>\n",
       "      <td>1</td>\n",
       "      <td>1</td>\n",
       "      <td>...</td>\n",
       "      <td>NaN</td>\n",
       "      <td>NaN</td>\n",
       "      <td>NaN</td>\n",
       "      <td>NaN</td>\n",
       "      <td>NaN</td>\n",
       "    </tr>\n",
       "    <tr>\n",
       "      <th>3</th>\n",
       "      <td>1</td>\n",
       "      <td>1.0</td>\n",
       "      <td>0</td>\n",
       "      <td>1</td>\n",
       "      <td>1</td>\n",
       "      <td>...</td>\n",
       "      <td>NaN</td>\n",
       "      <td>NaN</td>\n",
       "      <td>NaN</td>\n",
       "      <td>NaN</td>\n",
       "      <td>NaN</td>\n",
       "    </tr>\n",
       "    <tr>\n",
       "      <th>4</th>\n",
       "      <td>1</td>\n",
       "      <td>1.0</td>\n",
       "      <td>0</td>\n",
       "      <td>1</td>\n",
       "      <td>1</td>\n",
       "      <td>...</td>\n",
       "      <td>NaN</td>\n",
       "      <td>NaN</td>\n",
       "      <td>NaN</td>\n",
       "      <td>NaN</td>\n",
       "      <td>NaN</td>\n",
       "    </tr>\n",
       "    <tr>\n",
       "      <th>...</th>\n",
       "      <td>...</td>\n",
       "      <td>...</td>\n",
       "      <td>...</td>\n",
       "      <td>...</td>\n",
       "      <td>...</td>\n",
       "      <td>...</td>\n",
       "      <td>...</td>\n",
       "      <td>...</td>\n",
       "      <td>...</td>\n",
       "      <td>...</td>\n",
       "      <td>...</td>\n",
       "    </tr>\n",
       "    <tr>\n",
       "      <th>8373</th>\n",
       "      <td>552</td>\n",
       "      <td>22.0</td>\n",
       "      <td>1</td>\n",
       "      <td>44</td>\n",
       "      <td>2</td>\n",
       "      <td>...</td>\n",
       "      <td>9.0</td>\n",
       "      <td>5.0</td>\n",
       "      <td>9.0</td>\n",
       "      <td>5.0</td>\n",
       "      <td>6.0</td>\n",
       "    </tr>\n",
       "    <tr>\n",
       "      <th>8374</th>\n",
       "      <td>552</td>\n",
       "      <td>22.0</td>\n",
       "      <td>1</td>\n",
       "      <td>44</td>\n",
       "      <td>2</td>\n",
       "      <td>...</td>\n",
       "      <td>9.0</td>\n",
       "      <td>5.0</td>\n",
       "      <td>9.0</td>\n",
       "      <td>5.0</td>\n",
       "      <td>6.0</td>\n",
       "    </tr>\n",
       "    <tr>\n",
       "      <th>8375</th>\n",
       "      <td>552</td>\n",
       "      <td>22.0</td>\n",
       "      <td>1</td>\n",
       "      <td>44</td>\n",
       "      <td>2</td>\n",
       "      <td>...</td>\n",
       "      <td>9.0</td>\n",
       "      <td>5.0</td>\n",
       "      <td>9.0</td>\n",
       "      <td>5.0</td>\n",
       "      <td>6.0</td>\n",
       "    </tr>\n",
       "    <tr>\n",
       "      <th>8376</th>\n",
       "      <td>552</td>\n",
       "      <td>22.0</td>\n",
       "      <td>1</td>\n",
       "      <td>44</td>\n",
       "      <td>2</td>\n",
       "      <td>...</td>\n",
       "      <td>9.0</td>\n",
       "      <td>5.0</td>\n",
       "      <td>9.0</td>\n",
       "      <td>5.0</td>\n",
       "      <td>6.0</td>\n",
       "    </tr>\n",
       "    <tr>\n",
       "      <th>8377</th>\n",
       "      <td>552</td>\n",
       "      <td>NaN</td>\n",
       "      <td>1</td>\n",
       "      <td>44</td>\n",
       "      <td>2</td>\n",
       "      <td>...</td>\n",
       "      <td>9.0</td>\n",
       "      <td>5.0</td>\n",
       "      <td>9.0</td>\n",
       "      <td>5.0</td>\n",
       "      <td>6.0</td>\n",
       "    </tr>\n",
       "  </tbody>\n",
       "</table>\n",
       "<p>8378 rows × 195 columns</p>\n",
       "</div>"
      ],
      "text/plain": [
       "      iid    id  gender  idg  condtn   ...    attr5_3  sinc5_3  intel5_3  \\\n",
       "0       1   1.0       0    1       1   ...        NaN      NaN       NaN   \n",
       "1       1   1.0       0    1       1   ...        NaN      NaN       NaN   \n",
       "2       1   1.0       0    1       1   ...        NaN      NaN       NaN   \n",
       "3       1   1.0       0    1       1   ...        NaN      NaN       NaN   \n",
       "4       1   1.0       0    1       1   ...        NaN      NaN       NaN   \n",
       "...   ...   ...     ...  ...     ...   ...        ...      ...       ...   \n",
       "8373  552  22.0       1   44       2   ...        9.0      5.0       9.0   \n",
       "8374  552  22.0       1   44       2   ...        9.0      5.0       9.0   \n",
       "8375  552  22.0       1   44       2   ...        9.0      5.0       9.0   \n",
       "8376  552  22.0       1   44       2   ...        9.0      5.0       9.0   \n",
       "8377  552   NaN       1   44       2   ...        9.0      5.0       9.0   \n",
       "\n",
       "      fun5_3  amb5_3  \n",
       "0        NaN     NaN  \n",
       "1        NaN     NaN  \n",
       "2        NaN     NaN  \n",
       "3        NaN     NaN  \n",
       "4        NaN     NaN  \n",
       "...      ...     ...  \n",
       "8373     5.0     6.0  \n",
       "8374     5.0     6.0  \n",
       "8375     5.0     6.0  \n",
       "8376     5.0     6.0  \n",
       "8377     5.0     6.0  \n",
       "\n",
       "[8378 rows x 195 columns]"
      ]
     },
     "execution_count": 9,
     "metadata": {},
     "output_type": "execute_result"
    }
   ],
   "source": [
    "df"
   ]
  },
  {
   "cell_type": "code",
   "execution_count": 10,
   "metadata": {
    "collapsed": false
   },
   "outputs": [
    {
     "data": {
      "text/plain": [
       "Index([u'iid', u'id', u'gender', u'idg', u'condtn', u'wave', u'round',\n",
       "       u'position', u'positin1', u'order',\n",
       "       ...\n",
       "       u'attr3_3', u'sinc3_3', u'intel3_3', u'fun3_3', u'amb3_3', u'attr5_3',\n",
       "       u'sinc5_3', u'intel5_3', u'fun5_3', u'amb5_3'],\n",
       "      dtype='object', length=195)"
      ]
     },
     "execution_count": 10,
     "metadata": {},
     "output_type": "execute_result"
    }
   ],
   "source": [
    "df.columns"
   ]
  },
  {
   "cell_type": "code",
   "execution_count": 11,
   "metadata": {
    "collapsed": false
   },
   "outputs": [
    {
     "data": {
      "text/plain": [
       "[1, 2, 3, 4, 5, 6, 7, 8, 9, 10, 11, 12, 13, 14, 15, 16, 17, 18, 19, 20, 21]"
      ]
     },
     "execution_count": 11,
     "metadata": {},
     "output_type": "execute_result"
    }
   ],
   "source": [
    "sorted(df.wave.unique())"
   ]
  },
  {
   "cell_type": "code",
   "execution_count": 12,
   "metadata": {
    "collapsed": false
   },
   "outputs": [
    {
     "data": {
      "text/plain": [
       "21    968\n",
       "11    882\n",
       "9     800\n",
       "14    720\n",
       "15    684\n",
       "     ... \n",
       "10    162\n",
       "16     96\n",
       "20     84\n",
       "18     72\n",
       "6      50\n",
       "Name: wave, dtype: int64"
      ]
     },
     "execution_count": 12,
     "metadata": {},
     "output_type": "execute_result"
    }
   ],
   "source": [
    "df.wave.value_counts()"
   ]
  },
  {
   "cell_type": "code",
   "execution_count": 13,
   "metadata": {
    "collapsed": false
   },
   "outputs": [
    {
     "data": {
      "text/html": [
       "<div>\n",
       "<table border=\"1\" class=\"dataframe\">\n",
       "  <thead>\n",
       "    <tr style=\"text-align: right;\">\n",
       "      <th></th>\n",
       "      <th>iid</th>\n",
       "      <th>id</th>\n",
       "      <th>gender</th>\n",
       "      <th>idg</th>\n",
       "      <th>condtn</th>\n",
       "      <th>...</th>\n",
       "      <th>attr5_3</th>\n",
       "      <th>sinc5_3</th>\n",
       "      <th>intel5_3</th>\n",
       "      <th>fun5_3</th>\n",
       "      <th>amb5_3</th>\n",
       "    </tr>\n",
       "  </thead>\n",
       "  <tbody>\n",
       "    <tr>\n",
       "      <th>iid</th>\n",
       "      <td>1.000000</td>\n",
       "      <td>0.117109</td>\n",
       "      <td>0.051937</td>\n",
       "      <td>0.120362</td>\n",
       "      <td>0.220413</td>\n",
       "      <td>...</td>\n",
       "      <td>0.092325</td>\n",
       "      <td>-0.053698</td>\n",
       "      <td>0.006949</td>\n",
       "      <td>0.100164</td>\n",
       "      <td>0.055229</td>\n",
       "    </tr>\n",
       "    <tr>\n",
       "      <th>id</th>\n",
       "      <td>0.117109</td>\n",
       "      <td>1.000000</td>\n",
       "      <td>-0.011623</td>\n",
       "      <td>0.998029</td>\n",
       "      <td>0.318768</td>\n",
       "      <td>...</td>\n",
       "      <td>-0.018183</td>\n",
       "      <td>-0.007993</td>\n",
       "      <td>-0.088398</td>\n",
       "      <td>-0.046558</td>\n",
       "      <td>-0.119108</td>\n",
       "    </tr>\n",
       "    <tr>\n",
       "      <th>gender</th>\n",
       "      <td>0.051937</td>\n",
       "      <td>-0.011623</td>\n",
       "      <td>1.000000</td>\n",
       "      <td>0.033645</td>\n",
       "      <td>-0.002627</td>\n",
       "      <td>...</td>\n",
       "      <td>-0.103692</td>\n",
       "      <td>-0.289694</td>\n",
       "      <td>0.076538</td>\n",
       "      <td>-0.067432</td>\n",
       "      <td>0.055267</td>\n",
       "    </tr>\n",
       "    <tr>\n",
       "      <th>idg</th>\n",
       "      <td>0.120362</td>\n",
       "      <td>0.998029</td>\n",
       "      <td>0.033645</td>\n",
       "      <td>1.000000</td>\n",
       "      <td>0.324838</td>\n",
       "      <td>...</td>\n",
       "      <td>-0.020785</td>\n",
       "      <td>-0.022967</td>\n",
       "      <td>-0.086071</td>\n",
       "      <td>-0.050316</td>\n",
       "      <td>-0.118940</td>\n",
       "    </tr>\n",
       "    <tr>\n",
       "      <th>condtn</th>\n",
       "      <td>0.220413</td>\n",
       "      <td>0.318768</td>\n",
       "      <td>-0.002627</td>\n",
       "      <td>0.324838</td>\n",
       "      <td>1.000000</td>\n",
       "      <td>...</td>\n",
       "      <td>0.068552</td>\n",
       "      <td>-0.063407</td>\n",
       "      <td>0.068622</td>\n",
       "      <td>0.114254</td>\n",
       "      <td>0.145598</td>\n",
       "    </tr>\n",
       "    <tr>\n",
       "      <th>...</th>\n",
       "      <td>...</td>\n",
       "      <td>...</td>\n",
       "      <td>...</td>\n",
       "      <td>...</td>\n",
       "      <td>...</td>\n",
       "      <td>...</td>\n",
       "      <td>...</td>\n",
       "      <td>...</td>\n",
       "      <td>...</td>\n",
       "      <td>...</td>\n",
       "      <td>...</td>\n",
       "    </tr>\n",
       "    <tr>\n",
       "      <th>attr5_3</th>\n",
       "      <td>0.092325</td>\n",
       "      <td>-0.018183</td>\n",
       "      <td>-0.103692</td>\n",
       "      <td>-0.020785</td>\n",
       "      <td>0.068552</td>\n",
       "      <td>...</td>\n",
       "      <td>1.000000</td>\n",
       "      <td>0.197948</td>\n",
       "      <td>0.378176</td>\n",
       "      <td>0.406725</td>\n",
       "      <td>0.205368</td>\n",
       "    </tr>\n",
       "    <tr>\n",
       "      <th>sinc5_3</th>\n",
       "      <td>-0.053698</td>\n",
       "      <td>-0.007993</td>\n",
       "      <td>-0.289694</td>\n",
       "      <td>-0.022967</td>\n",
       "      <td>-0.063407</td>\n",
       "      <td>...</td>\n",
       "      <td>0.197948</td>\n",
       "      <td>1.000000</td>\n",
       "      <td>0.505440</td>\n",
       "      <td>0.331171</td>\n",
       "      <td>0.268553</td>\n",
       "    </tr>\n",
       "    <tr>\n",
       "      <th>intel5_3</th>\n",
       "      <td>0.006949</td>\n",
       "      <td>-0.088398</td>\n",
       "      <td>0.076538</td>\n",
       "      <td>-0.086071</td>\n",
       "      <td>0.068622</td>\n",
       "      <td>...</td>\n",
       "      <td>0.378176</td>\n",
       "      <td>0.505440</td>\n",
       "      <td>1.000000</td>\n",
       "      <td>0.270181</td>\n",
       "      <td>0.424972</td>\n",
       "    </tr>\n",
       "    <tr>\n",
       "      <th>fun5_3</th>\n",
       "      <td>0.100164</td>\n",
       "      <td>-0.046558</td>\n",
       "      <td>-0.067432</td>\n",
       "      <td>-0.050316</td>\n",
       "      <td>0.114254</td>\n",
       "      <td>...</td>\n",
       "      <td>0.406725</td>\n",
       "      <td>0.331171</td>\n",
       "      <td>0.270181</td>\n",
       "      <td>1.000000</td>\n",
       "      <td>0.398011</td>\n",
       "    </tr>\n",
       "    <tr>\n",
       "      <th>amb5_3</th>\n",
       "      <td>0.055229</td>\n",
       "      <td>-0.119108</td>\n",
       "      <td>0.055267</td>\n",
       "      <td>-0.118940</td>\n",
       "      <td>0.145598</td>\n",
       "      <td>...</td>\n",
       "      <td>0.205368</td>\n",
       "      <td>0.268553</td>\n",
       "      <td>0.424972</td>\n",
       "      <td>0.398011</td>\n",
       "      <td>1.000000</td>\n",
       "    </tr>\n",
       "  </tbody>\n",
       "</table>\n",
       "<p>187 rows × 187 columns</p>\n",
       "</div>"
      ],
      "text/plain": [
       "               iid        id    gender       idg    condtn    ...     \\\n",
       "iid       1.000000  0.117109  0.051937  0.120362  0.220413    ...      \n",
       "id        0.117109  1.000000 -0.011623  0.998029  0.318768    ...      \n",
       "gender    0.051937 -0.011623  1.000000  0.033645 -0.002627    ...      \n",
       "idg       0.120362  0.998029  0.033645  1.000000  0.324838    ...      \n",
       "condtn    0.220413  0.318768 -0.002627  0.324838  1.000000    ...      \n",
       "...            ...       ...       ...       ...       ...    ...      \n",
       "attr5_3   0.092325 -0.018183 -0.103692 -0.020785  0.068552    ...      \n",
       "sinc5_3  -0.053698 -0.007993 -0.289694 -0.022967 -0.063407    ...      \n",
       "intel5_3  0.006949 -0.088398  0.076538 -0.086071  0.068622    ...      \n",
       "fun5_3    0.100164 -0.046558 -0.067432 -0.050316  0.114254    ...      \n",
       "amb5_3    0.055229 -0.119108  0.055267 -0.118940  0.145598    ...      \n",
       "\n",
       "           attr5_3   sinc5_3  intel5_3    fun5_3    amb5_3  \n",
       "iid       0.092325 -0.053698  0.006949  0.100164  0.055229  \n",
       "id       -0.018183 -0.007993 -0.088398 -0.046558 -0.119108  \n",
       "gender   -0.103692 -0.289694  0.076538 -0.067432  0.055267  \n",
       "idg      -0.020785 -0.022967 -0.086071 -0.050316 -0.118940  \n",
       "condtn    0.068552 -0.063407  0.068622  0.114254  0.145598  \n",
       "...            ...       ...       ...       ...       ...  \n",
       "attr5_3   1.000000  0.197948  0.378176  0.406725  0.205368  \n",
       "sinc5_3   0.197948  1.000000  0.505440  0.331171  0.268553  \n",
       "intel5_3  0.378176  0.505440  1.000000  0.270181  0.424972  \n",
       "fun5_3    0.406725  0.331171  0.270181  1.000000  0.398011  \n",
       "amb5_3    0.205368  0.268553  0.424972  0.398011  1.000000  \n",
       "\n",
       "[187 rows x 187 columns]"
      ]
     },
     "execution_count": 13,
     "metadata": {},
     "output_type": "execute_result"
    }
   ],
   "source": [
    "df.corr()"
   ]
  },
  {
   "cell_type": "code",
   "execution_count": 14,
   "metadata": {
    "collapsed": false
   },
   "outputs": [
    {
     "data": {
      "text/plain": [
       "18    1350\n",
       "20    1160\n",
       "22     968\n",
       "21     882\n",
       "10     880\n",
       "      ... \n",
       "6      162\n",
       "11     140\n",
       "5       50\n",
       "8       48\n",
       "7       42\n",
       "Name: round, dtype: int64"
      ]
     },
     "execution_count": 14,
     "metadata": {},
     "output_type": "execute_result"
    }
   ],
   "source": [
    "df['round'].value_counts()"
   ]
  },
  {
   "cell_type": "code",
   "execution_count": 15,
   "metadata": {
    "collapsed": false
   },
   "outputs": [
    {
     "data": {
      "text/plain": [
       "[5, 6, 7, 8, 9, 10, 11, 14, 15, 16, 18, 19, 20, 21, 22]"
      ]
     },
     "execution_count": 15,
     "metadata": {},
     "output_type": "execute_result"
    }
   ],
   "source": [
    "sorted(df['round'].unique())"
   ]
  },
  {
   "cell_type": "code",
   "execution_count": 16,
   "metadata": {
    "collapsed": false
   },
   "outputs": [
    {
     "data": {
      "text/plain": [
       "[1, 2, 3, 4, 5, 6, 7, 8, 9, 10, 11, 12, 13, 14, 15, 16, 17, 18, 19, 20, 21, 22]"
      ]
     },
     "execution_count": 16,
     "metadata": {},
     "output_type": "execute_result"
    }
   ],
   "source": [
    "sorted(df.position.unique())"
   ]
  },
  {
   "cell_type": "markdown",
   "metadata": {},
   "source": [
    "# Look at Match (1=yes, 0 = no)"
   ]
  },
  {
   "cell_type": "code",
   "execution_count": 22,
   "metadata": {
    "collapsed": false
   },
   "outputs": [
    {
     "data": {
      "text/plain": [
       "iid        -0.015806\n",
       "id         -0.000770\n",
       "gender     -0.000530\n",
       "idg        -0.000544\n",
       "condtn     -0.045960\n",
       "              ...   \n",
       "attr5_3     0.023098\n",
       "sinc5_3    -0.031990\n",
       "intel5_3   -0.013012\n",
       "fun5_3      0.019793\n",
       "amb5_3      0.008534\n",
       "Name: match, dtype: float64"
      ]
     },
     "execution_count": 22,
     "metadata": {},
     "output_type": "execute_result"
    }
   ],
   "source": [
    "df.corr().match"
   ]
  },
  {
   "cell_type": "markdown",
   "metadata": {},
   "source": [
    "### Look at Match and Age"
   ]
  },
  {
   "cell_type": "code",
   "execution_count": null,
   "metadata": {
    "collapsed": false
   },
   "outputs": [],
   "source": [
    "model = smf.ols(formula = 'match ~ age ', data = df).fit()\n",
    "model.summary()"
   ]
  },
  {
   "cell_type": "markdown",
   "metadata": {},
   "source": [
    "### Look at Match and Race"
   ]
  },
  {
   "cell_type": "markdown",
   "metadata": {},
   "source": [
    "race_o:\t\trace of partner\n",
    "\n",
    "- Black/African American=1\n",
    "- European/Caucasian-American=2\n",
    "- Latino/Hispanic American=3\n",
    "- Asian/Pacific Islander/Asian-American=4\n",
    "- Native American=5\n",
    "- Other=6\n",
    "\n",
    "\n",
    "__imprace__: How important is it to you (on a scale of 1-10) that a person you date be of the same racial/ethnic background?\n"
   ]
  },
  {
   "cell_type": "code",
   "execution_count": null,
   "metadata": {
    "collapsed": false
   },
   "outputs": [],
   "source": [
    "model = smf.ols(formula = 'match ~ race_o + race + imprace ', data = df).fit()\n",
    "model.summary()"
   ]
  },
  {
   "cell_type": "markdown",
   "metadata": {},
   "source": [
    "samerace:  \tparticipant and the partner were the same race. 1= yes, 0=no"
   ]
  },
  {
   "cell_type": "code",
   "execution_count": null,
   "metadata": {
    "collapsed": false
   },
   "outputs": [],
   "source": [
    "model = smf.ols(formula = 'match ~ samerace ', data = df).fit()\n",
    "model.summary()"
   ]
  },
  {
   "cell_type": "markdown",
   "metadata": {},
   "source": [
    "### Look at Match and Field"
   ]
  },
  {
   "cell_type": "code",
   "execution_count": null,
   "metadata": {
    "collapsed": false
   },
   "outputs": [],
   "source": [
    "model = smf.ols(formula = 'match ~ field_cd ', data = df).fit()\n",
    "model.summary()\n",
    "\n",
    "#NEED TO TURN INTO DUMMY VALUE"
   ]
  },
  {
   "cell_type": "markdown",
   "metadata": {},
   "source": [
    "field_cd: \tfield coded \n",
    "\n",
    "- 1= Law \n",
    "- 2= Math\n",
    "- 3= Social Science, Psychologist \n",
    "- 4= Medical Science, Pharmaceuticals, and Bio Tech \n",
    "- 5= Engineering  \n",
    "- 6= English/Creative Writing/ Journalism \n",
    "- 7= History/Religion/Philosophy \n",
    "- 8= Business/Econ/Finance \n",
    "- 9= Education, Academia \n",
    "- 10= Biological Sciences/Chemistry/Physics\n",
    "- 11= Social Work \n",
    "- 12= Undergrad/undecided \n",
    "- 13=Political Science/International Affairs \n",
    "- 14=Film\n",
    "- 15=Fine Arts/Arts Administration\n",
    "- 16=Languages\n",
    "- 17=Architecture\n",
    "- 18=Other"
   ]
  },
  {
   "cell_type": "markdown",
   "metadata": {},
   "source": [
    "# Look at Age, Gender, Goal"
   ]
  },
  {
   "cell_type": "markdown",
   "metadata": {},
   "source": [
    "### Gender:\n",
    "\n",
    "\n",
    "- Female=0\n",
    "- Male=1\n"
   ]
  },
  {
   "cell_type": "code",
   "execution_count": null,
   "metadata": {
    "collapsed": false
   },
   "outputs": [],
   "source": [
    "df.gender.unique()"
   ]
  },
  {
   "cell_type": "code",
   "execution_count": null,
   "metadata": {
    "collapsed": false
   },
   "outputs": [],
   "source": [
    "df.gender.value_counts()"
   ]
  },
  {
   "cell_type": "code",
   "execution_count": null,
   "metadata": {
    "collapsed": false
   },
   "outputs": [],
   "source": [
    "len(df.gender.dropna())"
   ]
  },
  {
   "cell_type": "markdown",
   "metadata": {},
   "source": [
    "### Age:"
   ]
  },
  {
   "cell_type": "code",
   "execution_count": null,
   "metadata": {
    "collapsed": false
   },
   "outputs": [],
   "source": [
    "df.age.unique()"
   ]
  },
  {
   "cell_type": "code",
   "execution_count": null,
   "metadata": {
    "collapsed": false
   },
   "outputs": [],
   "source": [
    "df.age.value_counts()"
   ]
  },
  {
   "cell_type": "markdown",
   "metadata": {},
   "source": [
    "### Goal:"
   ]
  },
  {
   "cell_type": "markdown",
   "metadata": {},
   "source": [
    "goal:\n",
    "What is your primary goal in participating in this event? \n",
    "- Seemed like a fun night out=1\n",
    "- To meet new people=2\n",
    "- To get a date=3\n",
    "- Looking for a serious relationship=4\n",
    "- To say I did it=5\n",
    "- Other=6\n"
   ]
  },
  {
   "cell_type": "code",
   "execution_count": null,
   "metadata": {
    "collapsed": false
   },
   "outputs": [],
   "source": [
    "df.goal.value_counts()"
   ]
  },
  {
   "cell_type": "code",
   "execution_count": null,
   "metadata": {
    "collapsed": false
   },
   "outputs": [],
   "source": [
    "df.goal.unique()"
   ]
  },
  {
   "cell_type": "code",
   "execution_count": null,
   "metadata": {
    "collapsed": false
   },
   "outputs": [],
   "source": [
    "len(df.goal.dropna())"
   ]
  },
  {
   "cell_type": "code",
   "execution_count": null,
   "metadata": {
    "collapsed": false
   },
   "outputs": [],
   "source": [
    "#look at goal distribution \n",
    "print np.nan, df.goal.isnull().sum()\n",
    "for goals in np.sort(df.goal.dropna().unique()):\n",
    "    print goals, len(df[df.goal == goals])"
   ]
  },
  {
   "cell_type": "code",
   "execution_count": null,
   "metadata": {
    "collapsed": false
   },
   "outputs": [],
   "source": [
    "df = df[df.goal.isin([1, 2, 3, 4, 5, 6])]\n",
    "\n",
    "#counts for goal - NAN values --> only picking 1-6"
   ]
  },
  {
   "cell_type": "code",
   "execution_count": null,
   "metadata": {
    "collapsed": false
   },
   "outputs": [],
   "source": [
    "print np.nan, df.goal.isnull().sum()\n",
    "df.goal.value_counts()\n",
    "\n",
    "#removed all NAN values"
   ]
  },
  {
   "cell_type": "code",
   "execution_count": null,
   "metadata": {
    "collapsed": false
   },
   "outputs": [],
   "source": [
    "df.goal.value_counts()\n",
    "\n",
    "#checking that NAN values were removed"
   ]
  },
  {
   "cell_type": "code",
   "execution_count": null,
   "metadata": {
    "collapsed": false
   },
   "outputs": [],
   "source": [
    "sorted(df.goal.unique())\n",
    "\n",
    "#checking again"
   ]
  },
  {
   "cell_type": "markdown",
   "metadata": {},
   "source": [
    "#### *Create Dummy Variables*"
   ]
  },
  {
   "cell_type": "code",
   "execution_count": null,
   "metadata": {
    "collapsed": false
   },
   "outputs": [],
   "source": [
    "goal_df = pd.get_dummies(df.goal, prefix = 'Goal')\n",
    "goal_df"
   ]
  },
  {
   "cell_type": "code",
   "execution_count": null,
   "metadata": {
    "collapsed": true
   },
   "outputs": [],
   "source": [
    "#rename:\n",
    "\n",
    "goal_df.rename(columns={'Goal_1.0': 'goal_1',\n",
    "                        'Goal_2.0': 'goal_2',\n",
    "                        'Goal_3.0': 'goal_3',\n",
    "                        'Goal_4.0': 'goal_4',\n",
    "                        'Goal_5.0': 'goal_5',\n",
    "                        'Goal_6.0': 'goal_6'}, inplace = True)"
   ]
  },
  {
   "cell_type": "markdown",
   "metadata": {},
   "source": [
    "#### *Join dummy set with dataset and remove 'goal' column:*"
   ]
  },
  {
   "cell_type": "code",
   "execution_count": null,
   "metadata": {
    "collapsed": false
   },
   "outputs": [],
   "source": [
    "df = df.join([goal_df])  #joining dummy variables into dataset\n",
    "\n",
    "df.drop('goal', axis = 1, inplace = True)  #remove the column 'goal'"
   ]
  },
  {
   "cell_type": "markdown",
   "metadata": {},
   "source": [
    "### Match ~ Goal + Age + Gender * Age + Gender with StatsModels / sklearn  ???? --> DOESNT WORK?"
   ]
  },
  {
   "cell_type": "code",
   "execution_count": null,
   "metadata": {
    "collapsed": false
   },
   "outputs": [],
   "source": [
    "#X = df[ ['age', 'goal_1'] ]\n",
    "#y = df.match\n",
    "\n",
    "#linear_modeling_with_sklearn(X, y)\n",
    "\n",
    "#smf.ols(formula = 'match ~ goal + age + gender + age * gender', data = df).fit().summary()"
   ]
  },
  {
   "cell_type": "code",
   "execution_count": null,
   "metadata": {
    "collapsed": true
   },
   "outputs": [],
   "source": []
  },
  {
   "cell_type": "code",
   "execution_count": null,
   "metadata": {
    "collapsed": true
   },
   "outputs": [],
   "source": []
  },
  {
   "cell_type": "markdown",
   "metadata": {},
   "source": [
    "## Odds / OR of Goal & Gender\n",
    "\n",
    "female = 0\n",
    "male = 1\n",
    "\n",
    "\n",
    "goal:\n",
    "What is your primary goal in participating in this event? \n",
    "- Seemed like a fun night out=1\n",
    "- To meet new people=2\n",
    "- To get a date=3\n",
    "- Looking for a serious relationship=4\n",
    "- To say I did it=5\n",
    "- Other=6\n",
    "\n"
   ]
  },
  {
   "cell_type": "markdown",
   "metadata": {},
   "source": [
    "#### Goal 1: Seemed like a fun night out"
   ]
  },
  {
   "cell_type": "code",
   "execution_count": null,
   "metadata": {
    "collapsed": false,
    "scrolled": true
   },
   "outputs": [],
   "source": [
    "pd.crosstab(df.gender, df.goal_1, margins=True)"
   ]
  },
  {
   "cell_type": "markdown",
   "metadata": {},
   "source": [
    "Odds of being male & choosing to participate b/c it 'seemed like a fun night out' (which i'd argue indicated the feelings that it was NOT LONG TERM/casual): 1739:2435"
   ]
  },
  {
   "cell_type": "markdown",
   "metadata": {},
   "source": [
    "Odds of being female & choosing to participate b/c it 'seemed like a fun night out' (casual): 1687:2438"
   ]
  },
  {
   "cell_type": "markdown",
   "metadata": {},
   "source": [
    "__ODDS RATIO__: (1739/2435) / (1687/2438) = 1.03\n",
    "\n",
    "*odds of a male looking for a casual night out : odds of being a female and looking for a casual night out*\n",
    "\n",
    "1.03:1\n",
    "\n",
    "    Men more likely to be participating for a casual night out but not by much"
   ]
  },
  {
   "cell_type": "markdown",
   "metadata": {},
   "source": [
    "#### Goal 2: To meet new people"
   ]
  },
  {
   "cell_type": "code",
   "execution_count": null,
   "metadata": {
    "collapsed": false,
    "scrolled": true
   },
   "outputs": [],
   "source": [
    "pd.crosstab(df.gender, df.goal_2, margins=True)"
   ]
  },
  {
   "cell_type": "markdown",
   "metadata": {},
   "source": [
    "Odds of being male & choosing to participate to meet new people:  1365:2809"
   ]
  },
  {
   "cell_type": "markdown",
   "metadata": {},
   "source": [
    "Odds of being female & choosing to participate to meet new people: 1647:2478"
   ]
  },
  {
   "cell_type": "markdown",
   "metadata": {},
   "source": [
    "__ODDS RATIO__: (1365/2809) / (1647:2478) = .73\n",
    "\n",
    "*odds of a male looking to meet new people : odds of being a female and looking to meet new people*\n",
    "\n",
    ".73:1\n",
    "\n",
    "    Men are 27% less likely to look to meet new people than women"
   ]
  },
  {
   "cell_type": "markdown",
   "metadata": {},
   "source": [
    "#### Goal 3: To get a date"
   ]
  },
  {
   "cell_type": "code",
   "execution_count": null,
   "metadata": {
    "collapsed": false
   },
   "outputs": [],
   "source": [
    "pd.crosstab(df.gender, df.goal_3, margins=True)"
   ]
  },
  {
   "cell_type": "markdown",
   "metadata": {},
   "source": [
    "Odds of looking trying to get a date & being male:  434:3740"
   ]
  },
  {
   "cell_type": "markdown",
   "metadata": {},
   "source": [
    "Odds of looking trying to get a date & being female:  197:3928"
   ]
  },
  {
   "cell_type": "markdown",
   "metadata": {},
   "source": [
    "__ODDS RATIO__: (434/3740) / (197/3928) = 2.314\n",
    "\n",
    "*odds of a male looking for a date : odds of being a female and looking for a date*\n",
    "\n",
    "2.314:1\n",
    "\n",
    "    More men looking for a date than women in this study"
   ]
  },
  {
   "cell_type": "markdown",
   "metadata": {},
   "source": [
    "#### Goal 4: Looking for a serious relationship"
   ]
  },
  {
   "cell_type": "code",
   "execution_count": null,
   "metadata": {
    "collapsed": false,
    "scrolled": true
   },
   "outputs": [],
   "source": [
    "pd.crosstab(df.gender, df.goal_4, margins=True)"
   ]
  },
  {
   "cell_type": "markdown",
   "metadata": {},
   "source": [
    "Odds of looking for a serious relationship and being male:  172:4002"
   ]
  },
  {
   "cell_type": "markdown",
   "metadata": {},
   "source": [
    "Odds of looking for a serious relationship and not being male:  129:3996"
   ]
  },
  {
   "cell_type": "markdown",
   "metadata": {},
   "source": [
    "ODDS RATIO: (172/4002) / (129/3996) = 1.33 \n",
    "\n",
    "*odds of a male looking for a serious relationship : odds of being a female and looking for a serious relationship*\n",
    "\n",
    "1.33:1\n",
    "\n",
    "    More men looking for serious relationship than women in this study"
   ]
  },
  {
   "cell_type": "markdown",
   "metadata": {},
   "source": [
    "#### Goal 5: To say I did it"
   ]
  },
  {
   "cell_type": "code",
   "execution_count": null,
   "metadata": {
    "collapsed": false,
    "scrolled": true
   },
   "outputs": [],
   "source": [
    "pd.crosstab(df.gender, df.goal_5, margins=True)"
   ]
  },
  {
   "cell_type": "markdown",
   "metadata": {},
   "source": [
    "Odds of being male & choosing to participate to 'say i did it':  234:3940"
   ]
  },
  {
   "cell_type": "markdown",
   "metadata": {},
   "source": [
    "Odds of being female & choosing to participate to 'say i did it': 276:3849"
   ]
  },
  {
   "cell_type": "markdown",
   "metadata": {},
   "source": [
    "__ODDS RATIO__: (234/3940) / (276/3849) = .83\n",
    "\n",
    "*odds of a male participating to 'say he went on a speed dating experiment' : odds of being a female participating to'say she went on a speed dating experiment'*\n",
    "\n",
    ".83:1\n",
    "\n",
    "    Men are 17% less likely to participate in the speed dating experiement just to say they have \n",
    "    (observation: perhaps speed dating is more geared towards women)"
   ]
  },
  {
   "cell_type": "markdown",
   "metadata": {},
   "source": [
    "#### Goal 6: Other"
   ]
  },
  {
   "cell_type": "code",
   "execution_count": null,
   "metadata": {
    "collapsed": false,
    "scrolled": true
   },
   "outputs": [],
   "source": [
    "pd.crosstab(df.gender, df.goal_6, margins=True)"
   ]
  },
  {
   "cell_type": "markdown",
   "metadata": {},
   "source": [
    "Odds of choosing 'Other' if male: 230:3944"
   ]
  },
  {
   "cell_type": "markdown",
   "metadata": {},
   "source": [
    "Odds of choosing 'Other' if female: 189:3936"
   ]
  },
  {
   "cell_type": "markdown",
   "metadata": {},
   "source": [
    "__ODDS RATIO__: (230/3944) / (189/3936) = 1.22\n",
    "\n",
    "*odds of a male selecting 'other' as reason for participating: odds of a female selecting 'other' as reason for participating*\n",
    "\n",
    "1.22:1\n",
    "\n",
    "    Men are 1.22x more likely to select other when deciding reason for participating in study"
   ]
  },
  {
   "cell_type": "code",
   "execution_count": null,
   "metadata": {
    "collapsed": true
   },
   "outputs": [],
   "source": []
  }
 ],
 "metadata": {
  "kernelspec": {
   "display_name": "Python 2",
   "language": "python",
   "name": "python2"
  },
  "language_info": {
   "codemirror_mode": {
    "name": "ipython",
    "version": 2
   },
   "file_extension": ".py",
   "mimetype": "text/x-python",
   "name": "python",
   "nbconvert_exporter": "python",
   "pygments_lexer": "ipython2",
   "version": "2.7.11"
  }
 },
 "nbformat": 4,
 "nbformat_minor": 0
}

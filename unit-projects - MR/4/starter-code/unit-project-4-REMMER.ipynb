{
 "cells": [
  {
   "cell_type": "markdown",
   "metadata": {},
   "source": [
    "# SF-DAT-21 | Unit Project 4\n",
    "\n",
    "In this project, you will summarize and present your analysis from Unit Projects 1-3."
   ]
  },
  {
   "cell_type": "markdown",
   "metadata": {},
   "source": [
    "### Question 1. Introduction: Write a problem Statement/Specific Aim for this project."
   ]
  },
  {
   "cell_type": "markdown",
   "metadata": {},
   "source": [
    "Answer: Determine what are the best predictors for UCLA acceptance (GPA, GRE score, Prestige) - Use variables to predict accept (yes) or deny (no). "
   ]
  },
  {
   "cell_type": "markdown",
   "metadata": {},
   "source": [
    "### Question 2. Dataset: Write up a description of your data and any cleaning that was completed."
   ]
  },
  {
   "cell_type": "markdown",
   "metadata": {},
   "source": [
    "Answer: 400 observations: 127 people accepted, 273 denied from UCLA.  Post cleanup there were 397 observations: 126 accepted, 271 denied. \n",
    "\n",
    "Looked at correlations: Admitance & prestige have a negative coorleation. The closest correlation is between GRE score and GPA score. When looking at accept data & deny data, GRE & GPA have a higher coorelation for students who were denied than those accepted.\n",
    "\n",
    "Cleaned up dataset by removing blank (NaN) values as well as removing any outliers 1.5 x IQR above 3Q or 1.5* x IQR below Q1\n",
    "\n",
    "\n",
    "    Q1 = df_raw.gpa.quantile(0.25)\n",
    "    Q3 = df_raw.gpa.quantile(0.75)\n",
    "\n",
    "    IQR = Q3 - Q1\n",
    "\n",
    "    IQR"
   ]
  },
  {
   "cell_type": "markdown",
   "metadata": {
    "collapsed": true
   },
   "source": [
    "### Question 3. Demo: Provide a table that explains the data by admission status."
   ]
  },
  {
   "cell_type": "markdown",
   "metadata": {},
   "source": [
    "Mean (STD) or counts by admission status for each variable\n",
    "\n",
    "| Not Admitted | Admitted\n",
    "---| ---|---\n",
    "GPA | 3.35 | 3.49\n",
    "GRE |573.58 | 618.9\n",
    "Prestige 1 | 28/397=7.05% | 33/397=8.31%\n",
    "Prestige 2 | 95/397=23.93% | 53/397=13.35%\n",
    "Prestige 3 | 93/397=23.43% | 28/397=7.05%\n",
    "Prestige 4 | 55/397=13.85% | 12/397=3.02%"
   ]
  },
  {
   "cell_type": "markdown",
   "metadata": {},
   "source": [
    "    frequency (%) - divided by all observations or just within it's own grouping?\n",
    "   "
   ]
  },
  {
   "cell_type": "markdown",
   "metadata": {},
   "source": [
    "### Question 4. Methods: Write up the methods used in your analysis."
   ]
  },
  {
   "cell_type": "markdown",
   "metadata": {},
   "source": [
    "Answer: \n",
    "- count ()\n",
    "- unique ()\n",
    "- isnull ()\n",
    "- dropna ()\n",
    "- describe ()\n",
    "    - mode ()\n",
    "    - mean ()\n",
    "    - std ()\n",
    "    - min ()\n",
    "    - max ()\n",
    "    - quantile (0.75, 0.25, 0.5)\n",
    "- sum ()\n",
    "- plot (kind = box)\n",
    "- plot (kind = hist)\n",
    "- corr ()\n",
    "- get_dummies ()\n",
    "- rename ()\n",
    "- join ()\n",
    "- drop ()\n",
    "- crosstab ()\n",
    "- sm.Logit ()\n",
    "- summary ()\n",
    "- conf_int ()\n",
    "- np.exp ()\n",
    "- predict ()\n",
    "- head ()\n",
    "- tail ()"
   ]
  },
  {
   "cell_type": "markdown",
   "metadata": {},
   "source": [
    "### Question 5. Results: Write up your results."
   ]
  },
  {
   "cell_type": "markdown",
   "metadata": {},
   "source": [
    "Answer: \n",
    "\n",
    "The higher the GPA the more likely someone was to get accepted into UCLA\n",
    "\n",
    "The higher the persons GRE score the more likely someome was to get accepted into UCLA\n",
    "\n",
    "The odds of being accepted were even greater when from a prestige 1 school "
   ]
  },
  {
   "cell_type": "markdown",
   "metadata": {},
   "source": [
    "### Question 6. Visuals: Provide a table or visualization of these results."
   ]
  },
  {
   "cell_type": "markdown",
   "metadata": {},
   "source": [
    "#### Admit_predict vs. GPA \n",
    "\n",
    "Can see that as GPA increases, the chances of being accepted increase"
   ]
  },
  {
   "cell_type": "markdown",
   "metadata": {},
   "source": [
    "<img src='assets/admit_predict_vs_gpa.png' height= 75% width= 75%>"
   ]
  },
  {
   "cell_type": "markdown",
   "metadata": {},
   "source": [
    "#### Admit_predict vs. GRE \n",
    "\n",
    "Can see that as GRE increases, the chances of being accepted increases"
   ]
  },
  {
   "cell_type": "markdown",
   "metadata": {},
   "source": [
    "<img src='assets/admit_predict_vs_gre.png' height= 75% width= 75%>"
   ]
  },
  {
   "cell_type": "markdown",
   "metadata": {},
   "source": [
    "#### Admit_predict results on Dummy Variables"
   ]
  },
  {
   "cell_type": "markdown",
   "metadata": {},
   "source": [
    "<img src ='assets/admit_predict_prob.png' height= 100% width= 100%> "
   ]
  },
  {
   "cell_type": "markdown",
   "metadata": {},
   "source": [
    "Observations:\n",
    "\n",
    "36.9% chance of getting accepted into UCLA if you are from a prestige 4 school, have a 4.0 GPA and a GRE score of 800.\n",
    "\n",
    "    vs.\n",
    "\n",
    "73.4% chance of getting accepted into UCLA if you are from a prestige 1 school, have a 4.0 GPA and a GRE score of 800."
   ]
  },
  {
   "cell_type": "markdown",
   "metadata": {},
   "source": [
    "### question 7. Discussion: Write up your discussion and future steps."
   ]
  },
  {
   "cell_type": "markdown",
   "metadata": {},
   "source": [
    "Overall, individually, having a higher GPA, GRE score, or being from a prestige 1 school positivley influenced UCLA acceptance rate. Ranking of prestige schools (esp. from 1) seemed to have the most influence on acceptance rate. "
   ]
  }
 ],
 "metadata": {
  "kernelspec": {
   "display_name": "Python 2",
   "language": "python",
   "name": "python2"
  },
  "language_info": {
   "codemirror_mode": {
    "name": "ipython",
    "version": 2
   },
   "file_extension": ".py",
   "mimetype": "text/x-python",
   "name": "python",
   "nbconvert_exporter": "python",
   "pygments_lexer": "ipython2",
   "version": "2.7.11"
  }
 },
 "nbformat": 4,
 "nbformat_minor": 0
}
